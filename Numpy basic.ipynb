{
 "cells": [
  {
   "cell_type": "markdown",
   "id": "969cfa6c7f29d7fd",
   "metadata": {},
   "source": [
    "# 1. 创建数组"
   ]
  },
  {
   "cell_type": "markdown",
   "id": "2cb262485d3ce5b4",
   "metadata": {},
   "source": [
    "## 1.1 python中的固定类型数组"
   ]
  },
  {
   "cell_type": "code",
   "execution_count": 1,
   "id": "75d0edfada327828",
   "metadata": {
    "ExecuteTime": {
     "end_time": "2025-05-02T08:13:27.443717Z",
     "start_time": "2025-05-02T08:13:27.438765Z"
    }
   },
   "outputs": [
    {
     "data": {
      "text/plain": [
       "array('i', [0, 1, 2, 3, 4, 5, 6, 7, 8, 9])"
      ]
     },
     "execution_count": 1,
     "metadata": {},
     "output_type": "execute_result"
    }
   ],
   "source": [
    "import array\n",
    "L = list(range(10))\n",
    "# array为python内置数组模块，i是一个数据类型码表示数据为整型\n",
    "A = array.array('i', L)\n",
    "A"
   ]
  },
  {
   "cell_type": "markdown",
   "id": "3c72265ba69c4e12",
   "metadata": {},
   "source": [
    "## 1.2 利用np.array从列表创建数组"
   ]
  },
  {
   "cell_type": "code",
   "execution_count": 2,
   "id": "dab9d73dd37ac758",
   "metadata": {
    "ExecuteTime": {
     "end_time": "2025-05-02T08:13:27.540331Z",
     "start_time": "2025-05-02T08:13:27.469394Z"
    }
   },
   "outputs": [],
   "source": [
    "import numpy as np\n",
    "import array"
   ]
  },
  {
   "cell_type": "code",
   "execution_count": 3,
   "id": "d604f3fad32273f4",
   "metadata": {
    "ExecuteTime": {
     "end_time": "2025-05-02T08:13:27.596379Z",
     "start_time": "2025-05-02T08:13:27.574620Z"
    }
   },
   "outputs": [
    {
     "data": {
      "text/plain": [
       "array([1, 2, 3])"
      ]
     },
     "execution_count": 3,
     "metadata": {},
     "output_type": "execute_result"
    }
   ],
   "source": [
    "np.array([1, 2, 3])"
   ]
  },
  {
   "cell_type": "code",
   "execution_count": 4,
   "id": "5cbe94f5d29425b1",
   "metadata": {
    "ExecuteTime": {
     "end_time": "2025-05-02T08:13:27.674594Z",
     "start_time": "2025-05-02T08:13:27.667208Z"
    }
   },
   "outputs": [
    {
     "name": "stdout",
     "output_type": "stream",
     "text": [
      "[3.  2.  5.  1.3]\n",
      "[1. 2. 3. 4.]\n"
     ]
    },
    {
     "data": {
      "text/plain": [
       "numpy.ndarray"
      ]
     },
     "execution_count": 4,
     "metadata": {},
     "output_type": "execute_result"
    }
   ],
   "source": [
    "# Numpy要求数组必须包含统一类型的数据，类型不匹配会向上转化，可以用dtype明确设置数据类型\n",
    "a = np.array([3.0, 2, 5, 1.3])\n",
    "b = np.array([1, 2, 3, 4], dtype = 'float')\n",
    "print(a)\n",
    "print(b)\n",
    "type(b)"
   ]
  },
  {
   "cell_type": "code",
   "execution_count": 5,
   "id": "84553c95d9644c93",
   "metadata": {
    "ExecuteTime": {
     "end_time": "2025-05-02T08:13:27.692027Z",
     "start_time": "2025-05-02T08:13:27.686783Z"
    }
   },
   "outputs": [
    {
     "name": "stdout",
     "output_type": "stream",
     "text": [
      "2\n",
      "3\n",
      "4\n",
      "list1: [range(2, 5), range(4, 7), range(6, 9)]\n",
      "[[2 3 4]\n",
      " [4 5 6]\n",
      " [6 7 8]]\n"
     ]
    },
    {
     "data": {
      "text/plain": [
       "array([[2, 3, 4],\n",
       "       [4, 5, 6],\n",
       "       [6, 7, 8]])"
      ]
     },
     "execution_count": 5,
     "metadata": {},
     "output_type": "execute_result"
    }
   ],
   "source": [
    "# 嵌套列表构成多维数组\n",
    "for i in range(2, 5):\n",
    "    print(i)\n",
    "\n",
    "list1 = [range(i, i + 3) for i in [2, 4, 6]]\n",
    "c = np.array([range(i, i + 3) for i in [2, 4, 6]])\n",
    "print('list1:', list1)\n",
    "print(c)\n",
    "c"
   ]
  },
  {
   "cell_type": "markdown",
   "id": "b509df460c399ad1",
   "metadata": {},
   "source": [
    "## 1.3 从头创建数组"
   ]
  },
  {
   "cell_type": "code",
   "execution_count": 6,
   "id": "80c4c6e0bd880d9",
   "metadata": {
    "ExecuteTime": {
     "end_time": "2025-05-02T08:14:49.453110Z",
     "start_time": "2025-05-02T08:14:49.449889Z"
    }
   },
   "outputs": [
    {
     "data": {
      "text/plain": [
       "array([0, 0, 0, 0, 0, 0, 0, 0, 0, 0])"
      ]
     },
     "execution_count": 6,
     "metadata": {},
     "output_type": "execute_result"
    }
   ],
   "source": [
    "# 用np.zeros创建一个长度为10，值都是整型0的数组\n",
    "np.zeros(10, dtype = int)"
   ]
  },
  {
   "cell_type": "code",
   "execution_count": 7,
   "id": "514fd74c5f7efee0",
   "metadata": {
    "ExecuteTime": {
     "end_time": "2025-05-02T08:15:09.055729Z",
     "start_time": "2025-05-02T08:15:09.053049Z"
    }
   },
   "outputs": [
    {
     "data": {
      "text/plain": [
       "array([[1., 1., 1., 1., 1.],\n",
       "       [1., 1., 1., 1., 1.],\n",
       "       [1., 1., 1., 1., 1.]])"
      ]
     },
     "execution_count": 7,
     "metadata": {},
     "output_type": "execute_result"
    }
   ],
   "source": [
    "# 用np.ones创建一个3 X 5的浮点型数组，数组值均为1\n",
    "np.ones((3, 5))"
   ]
  },
  {
   "cell_type": "code",
   "execution_count": 8,
   "id": "7e972295715deb23",
   "metadata": {
    "ExecuteTime": {
     "end_time": "2025-05-02T08:15:26.565027Z",
     "start_time": "2025-05-02T08:15:26.561970Z"
    }
   },
   "outputs": [
    {
     "data": {
      "text/plain": [
       "array([[3.14, 3.14, 3.14, 3.14, 3.14],\n",
       "       [3.14, 3.14, 3.14, 3.14, 3.14],\n",
       "       [3.14, 3.14, 3.14, 3.14, 3.14]])"
      ]
     },
     "execution_count": 8,
     "metadata": {},
     "output_type": "execute_result"
    }
   ],
   "source": [
    "# 用np.full创建一个3 X 5的浮点型数组，数值指定都为3.14\n",
    "np.full((3, 5), 3.14)"
   ]
  },
  {
   "cell_type": "code",
   "execution_count": 9,
   "id": "6571c6a16ebcb608",
   "metadata": {
    "ExecuteTime": {
     "end_time": "2025-05-02T08:27:32.479936Z",
     "start_time": "2025-05-02T08:27:32.477012Z"
    }
   },
   "outputs": [
    {
     "data": {
      "text/plain": [
       "array([ 0,  2,  4,  6,  8, 10, 12, 14, 16, 18])"
      ]
     },
     "execution_count": 9,
     "metadata": {},
     "output_type": "execute_result"
    }
   ],
   "source": [
    "# 用np.arange创建一个线性序列数组，数组值从0开始到20结束（不包含20），步长为2，类似与range函数\n",
    "np.arange(0, 20, 2)"
   ]
  },
  {
   "cell_type": "code",
   "execution_count": 10,
   "id": "60b57a3626c29d71",
   "metadata": {
    "ExecuteTime": {
     "end_time": "2025-05-02T08:28:43.184496Z",
     "start_time": "2025-05-02T08:28:43.130848Z"
    }
   },
   "outputs": [
    {
     "name": "stdout",
     "output_type": "stream",
     "text": [
      "创建一个[0,1)之间的随机数 0.22374127021817014\n",
      "创建一个只包含[0,1)之间一个单一元素的数组 [0.84145417]\n",
      "创建一个[0,1)之间随机数组成的3X3的数组\n",
      " [[0.71278402 0.97394052 0.34631557]\n",
      " [0.51381328 0.35256354 0.37734188]\n",
      " [0.48306871 0.97658375 0.73169681]]\n",
      "创建一个[0,1)之间随机数组成的2X3X4的数组\n",
      " [[[0.1700443  0.67706364 0.71160529 0.29062295]\n",
      "  [0.36714629 0.52258593 0.55609442 0.86915838]\n",
      "  [0.33876692 0.7911301  0.20279261 0.48215727]]\n",
      "\n",
      " [[0.10381018 0.5237956  0.01934173 0.08847499]\n",
      "  [0.53557864 0.53785903 0.85962831 0.28247474]\n",
      "  [0.77428769 0.41936218 0.77381126 0.35738563]]]\n",
      "创建一个[5,7)之间随机浮点数组成的2X2的数组\n",
      " [[5.92123651 5.2043172 ]\n",
      " [6.48599486 6.96837035]]\n",
      "创建一个[5,7)之间随机整数组成的2X2的数组\n",
      " [[6 6]\n",
      " [5 5]]\n"
     ]
    }
   ],
   "source": [
    "a1 = np.random.random()\n",
    "print('创建一个[0,1)之间的随机数', a1)\n",
    "a2 = np.random.random(1)\n",
    "print('创建一个只包含[0,1)之间一个单一元素的数组', a2)\n",
    "a3 = np.random.random((3, 3))\n",
    "print('创建一个[0,1)之间随机数组成的3X3的数组\\n', a3)\n",
    "a4 = np.random.random((2, 3, 4))\n",
    "print('创建一个[0,1)之间随机数组成的2X3X4的数组\\n', a4)\n",
    "a5 = np.random.uniform(5, 7, (2, 2))\n",
    "print('创建一个[5,7)之间随机浮点数组成的2X2的数组\\n', a5)\n",
    "a6 = np.random.randint(5, 7, (2, 2))\n",
    "print('创建一个[5,7)之间随机整数组成的2X2的数组\\n', a6)\n"
   ]
  },
  {
   "cell_type": "code",
   "execution_count": 11,
   "id": "686a1faa6bb21c09",
   "metadata": {
    "ExecuteTime": {
     "end_time": "2025-05-02T08:29:01.378866Z",
     "start_time": "2025-05-02T08:29:01.374638Z"
    }
   },
   "outputs": [
    {
     "data": {
      "text/plain": [
       "array([[ 0.1794638 ,  0.29924339,  0.78407476],\n",
       "       [-0.024432  , -1.61568979,  0.26373132],\n",
       "       [-0.20668012,  0.96809527,  1.28210668]])"
      ]
     },
     "execution_count": 11,
     "metadata": {},
     "output_type": "execute_result"
    }
   ],
   "source": [
    "# 创建一个3 X 3的均值为0，标准差为1，符合正态分布的随机数数组 np.random.normal(均值，标准差，形状)-------正态分布概率密度函数\n",
    "np.random.normal(0, 1, (3, 3))"
   ]
  },
  {
   "cell_type": "code",
   "execution_count": 12,
   "id": "6cfee7626c69f5d9",
   "metadata": {
    "ExecuteTime": {
     "end_time": "2025-05-02T08:29:36.502272Z",
     "start_time": "2025-05-02T08:29:36.499001Z"
    }
   },
   "outputs": [
    {
     "data": {
      "text/plain": [
       "array([[-1.69147428, -0.45466148,  0.82442674],\n",
       "       [-0.79313073,  0.06204386,  0.98110504],\n",
       "       [-0.38922718,  1.59617021,  1.37333743]])"
      ]
     },
     "execution_count": 12,
     "metadata": {},
     "output_type": "execute_result"
    }
   ],
   "source": [
    "# 创建一个3 X 3的数组，包含标准正态分布的随机数\n",
    "np.random.randn(3, 3)"
   ]
  },
  {
   "cell_type": "code",
   "execution_count": 13,
   "id": "7f79819aebb86c09",
   "metadata": {
    "ExecuteTime": {
     "end_time": "2025-05-02T08:30:54.440448Z",
     "start_time": "2025-05-02T08:30:54.437383Z"
    }
   },
   "outputs": [
    {
     "data": {
      "text/plain": [
       "array([[1., 0., 0.],\n",
       "       [0., 1., 0.],\n",
       "       [0., 0., 1.]])"
      ]
     },
     "execution_count": 13,
     "metadata": {},
     "output_type": "execute_result"
    }
   ],
   "source": [
    "# 创建一个3X3的单位矩阵\n",
    "np.eye(3)"
   ]
  },
  {
   "cell_type": "code",
   "execution_count": 14,
   "id": "19bfd25f185c78b2",
   "metadata": {
    "ExecuteTime": {
     "end_time": "2025-05-02T08:31:17.375913Z",
     "start_time": "2025-05-02T08:31:17.373140Z"
    }
   },
   "outputs": [
    {
     "data": {
      "text/plain": [
       "array([1., 1., 1.])"
      ]
     },
     "execution_count": 14,
     "metadata": {},
     "output_type": "execute_result"
    }
   ],
   "source": [
    "# 创建一个由3个整型数组成的未初始化的数组，数组的值是空间中的任意值\n",
    "np.empty(3)"
   ]
  },
  {
   "cell_type": "markdown",
   "id": "fb0fba2c6ba3e5c5",
   "metadata": {},
   "source": [
    "# 2. 数组基础"
   ]
  },
  {
   "cell_type": "markdown",
   "id": "1c455fe26a196643",
   "metadata": {},
   "source": [
    "## 2.1 数组属性"
   ]
  },
  {
   "cell_type": "code",
   "execution_count": 15,
   "id": "b63dacf723ac8cd0",
   "metadata": {
    "ExecuteTime": {
     "end_time": "2025-05-02T11:33:07.213716Z",
     "start_time": "2025-05-02T11:33:07.210581Z"
    }
   },
   "outputs": [],
   "source": [
    "# 设置随机数生成种子，确保每次程序执行都生成同样的随机数组\n",
    "np.random.seed(0)"
   ]
  },
  {
   "cell_type": "code",
   "execution_count": 16,
   "id": "5a83efb23aa6f793",
   "metadata": {
    "ExecuteTime": {
     "end_time": "2025-05-02T11:33:08.361534Z",
     "start_time": "2025-05-02T11:33:08.359329Z"
    }
   },
   "outputs": [],
   "source": [
    "# 设置随机数生成种子，确保每次程序执行都生成同样的随机数组\n",
    "x1 = np.random.randint(10, size = 6)\n",
    "x2 = np.random.randint(10, size = (3, 4))\n",
    "x3 = np.random.randint(10, size = (3, 4, 5)) #3层4行5列"
   ]
  },
  {
   "cell_type": "code",
   "execution_count": 17,
   "id": "739d378bd62ffb9b",
   "metadata": {
    "ExecuteTime": {
     "end_time": "2025-05-02T08:34:19.498297Z",
     "start_time": "2025-05-02T08:34:19.494489Z"
    }
   },
   "outputs": [
    {
     "data": {
      "text/plain": [
       "(array([5, 0, 3, 3, 7, 9]),\n",
       " array([[3, 5, 2, 4],\n",
       "        [7, 6, 8, 8],\n",
       "        [1, 6, 7, 7]]),\n",
       " array([[[8, 1, 5, 9, 8],\n",
       "         [9, 4, 3, 0, 3],\n",
       "         [5, 0, 2, 3, 8],\n",
       "         [1, 3, 3, 3, 7]],\n",
       " \n",
       "        [[0, 1, 9, 9, 0],\n",
       "         [4, 7, 3, 2, 7],\n",
       "         [2, 0, 0, 4, 5],\n",
       "         [5, 6, 8, 4, 1]],\n",
       " \n",
       "        [[4, 9, 8, 1, 1],\n",
       "         [7, 9, 9, 3, 6],\n",
       "         [7, 2, 0, 3, 5],\n",
       "         [9, 4, 4, 6, 4]]]))"
      ]
     },
     "execution_count": 17,
     "metadata": {},
     "output_type": "execute_result"
    }
   ],
   "source": [
    "x1,x2,x3"
   ]
  },
  {
   "cell_type": "code",
   "execution_count": 18,
   "id": "9717436191e42c0d",
   "metadata": {
    "ExecuteTime": {
     "end_time": "2025-05-02T08:39:58.472987Z",
     "start_time": "2025-05-02T08:39:58.470042Z"
    }
   },
   "outputs": [
    {
     "name": "stdout",
     "output_type": "stream",
     "text": [
      "x3 ndim:  3\n",
      "x3.shape: (3, 4, 5)\n",
      "x3.size:  60\n",
      "x3.dtype:  int32\n",
      "x3.itemsize:  4 bytes\n",
      "x3.nbytes:  240 bytes\n"
     ]
    }
   ],
   "source": [
    "print('x3 ndim: ', x3.ndim) # 数组维度或秩\n",
    "print('x3.shape:', x3.shape) # 数组形状，每个维度的大小\n",
    "print('x3.size: ', x3.size) # 数组总大小 各维度大小的乘积\n",
    "print('x3.dtype: ', x3.dtype) # 数组数据类型\n",
    "print('x3.itemsize: ', x3.itemsize, 'bytes') # 每个数组元素字节大小\n",
    "print('x3.nbytes: ', x3.nbytes, 'bytes') # 数组总字节大小  一般nbytes = intemsize * shape"
   ]
  },
  {
   "cell_type": "markdown",
   "id": "7f01d85cbeb06629",
   "metadata": {},
   "source": [
    "## 2.2 数组索引"
   ]
  },
  {
   "cell_type": "code",
   "execution_count": 19,
   "id": "7452dacd048ad990",
   "metadata": {
    "ExecuteTime": {
     "end_time": "2025-05-02T08:44:19.702954Z",
     "start_time": "2025-05-02T08:44:19.699771Z"
    }
   },
   "outputs": [
    {
     "data": {
      "text/plain": [
       "array([5, 0, 3, 3, 7, 9])"
      ]
     },
     "execution_count": 19,
     "metadata": {},
     "output_type": "execute_result"
    }
   ],
   "source": [
    "x1"
   ]
  },
  {
   "cell_type": "code",
   "execution_count": 20,
   "id": "a816dc4efb2cb8b4",
   "metadata": {
    "ExecuteTime": {
     "end_time": "2025-05-02T08:44:23.908368Z",
     "start_time": "2025-05-02T08:44:23.905180Z"
    }
   },
   "outputs": [
    {
     "name": "stdout",
     "output_type": "stream",
     "text": [
      "5\n",
      "9\n"
     ]
    }
   ],
   "source": [
    "print(x1[0])\n",
    "# 用负值获取数组末尾索引\n",
    "print(x1[-1])\n"
   ]
  },
  {
   "cell_type": "code",
   "execution_count": 21,
   "id": "806e00edff8859b8",
   "metadata": {
    "ExecuteTime": {
     "end_time": "2025-05-02T08:44:46.021632Z",
     "start_time": "2025-05-02T08:44:46.018205Z"
    }
   },
   "outputs": [
    {
     "data": {
      "text/plain": [
       "array([[[8, 1, 5, 9, 8],\n",
       "        [9, 4, 3, 0, 3],\n",
       "        [5, 0, 2, 3, 8],\n",
       "        [1, 3, 3, 3, 7]],\n",
       "\n",
       "       [[0, 1, 9, 9, 0],\n",
       "        [4, 7, 3, 2, 7],\n",
       "        [2, 0, 0, 4, 5],\n",
       "        [5, 6, 8, 4, 1]],\n",
       "\n",
       "       [[4, 9, 8, 1, 1],\n",
       "        [7, 9, 9, 3, 6],\n",
       "        [7, 2, 0, 3, 5],\n",
       "        [9, 4, 4, 6, 4]]])"
      ]
     },
     "execution_count": 21,
     "metadata": {},
     "output_type": "execute_result"
    }
   ],
   "source": [
    "x3"
   ]
  },
  {
   "cell_type": "code",
   "execution_count": 22,
   "id": "8baaee440724991",
   "metadata": {
    "ExecuteTime": {
     "end_time": "2025-05-02T09:01:45.969939Z",
     "start_time": "2025-05-02T09:01:45.965314Z"
    }
   },
   "outputs": [
    {
     "data": {
      "text/plain": [
       "7"
      ]
     },
     "execution_count": 22,
     "metadata": {},
     "output_type": "execute_result"
    }
   ],
   "source": [
    "x3[2][2][0] # 取第3层第3行第1列的数"
   ]
  },
  {
   "cell_type": "code",
   "execution_count": 23,
   "id": "6d182dedda2a71e2",
   "metadata": {
    "ExecuteTime": {
     "end_time": "2025-05-02T09:14:01.885705Z",
     "start_time": "2025-05-02T09:14:01.880871Z"
    }
   },
   "outputs": [
    {
     "name": "stdout",
     "output_type": "stream",
     "text": [
      "[[[ 8  1  5  9  8]\n",
      "  [ 9  4  3  0  3]\n",
      "  [ 5  0  2  3  8]\n",
      "  [ 1  3  3  3  7]]\n",
      "\n",
      " [[ 0  1  9  9  0]\n",
      "  [ 4  7  3  2  7]\n",
      "  [ 2  0  0  4  5]\n",
      "  [ 5  6  8  4  1]]\n",
      "\n",
      " [[ 4  9  8  1  1]\n",
      "  [ 7  9  9  3  6]\n",
      "  [10  2  0  3  5]\n",
      "  [ 9  4  4  6  4]]]\n"
     ]
    },
    {
     "data": {
      "text/plain": [
       "array([[[8, 1, 5, 9, 8],\n",
       "        [9, 4, 3, 0, 3],\n",
       "        [5, 0, 2, 3, 8],\n",
       "        [1, 3, 3, 3, 7]],\n",
       "\n",
       "       [[0, 1, 9, 9, 0],\n",
       "        [4, 7, 3, 2, 7],\n",
       "        [2, 0, 0, 4, 5],\n",
       "        [5, 6, 8, 4, 1]],\n",
       "\n",
       "       [[4, 9, 8, 1, 1],\n",
       "        [7, 9, 9, 3, 6],\n",
       "        [3, 2, 0, 3, 5],\n",
       "        [9, 4, 4, 6, 4]]])"
      ]
     },
     "execution_count": 23,
     "metadata": {},
     "output_type": "execute_result"
    }
   ],
   "source": [
    "# 利用索引修改数组的元素值,浮点数插入整型数组时会自动截短\n",
    "x3[2][2][0] = 10\n",
    "print(x3)\n",
    "x3[2][2][0] = 3.1415\n",
    "x3"
   ]
  },
  {
   "cell_type": "markdown",
   "id": "69f766bb2f26cfa9",
   "metadata": {},
   "source": [
    "## 2.3 数组切片\n",
    "Numpy切片语法同列表，x[start:stop:step],默认start=0, step=1, 索引从0开始左边包含，右边不包含。"
   ]
  },
  {
   "cell_type": "code",
   "execution_count": 24,
   "id": "6fe57551d4671faa",
   "metadata": {
    "ExecuteTime": {
     "end_time": "2025-05-02T11:30:22.185315Z",
     "start_time": "2025-05-02T11:30:22.179835Z"
    }
   },
   "outputs": [
    {
     "name": "stdout",
     "output_type": "stream",
     "text": [
      "[0 1 2 3 4 5 6 7 8 9]\n",
      "x[:5] [0 1 2 3 4]\n",
      "x[5:] [5 6 7 8 9]\n",
      "x[4:7] [4 5 6]\n",
      "每隔一个元素x[::2] [0 2 4 6 8]\n",
      "从索引1开始每隔一个元素x[1::2] [1 3 5 7 9]\n",
      "所有元素逆序x[::-1] [9 8 7 6 5 4 3 2 1 0]\n",
      "索引5开始逆序每隔一个元素x[5::-2] [5 3 1]\n"
     ]
    }
   ],
   "source": [
    "# 一维数组切片\n",
    "x = np.arange(10)\n",
    "print(x)\n",
    "print('x[:5]', x[:5])\n",
    "print('x[5:]', x[5:])\n",
    "print('x[4:7]', x[4:7])\n",
    "print('每隔一个元素x[::2]', x[::2])\n",
    "print('从索引1开始每隔一个元素x[1::2]', x[1::2])\n",
    "# 步长为负逆序排列\n",
    "print('所有元素逆序x[::-1]', x[::-1])\n",
    "print('索引5开始逆序每隔一个元素x[5::-2]', x[5::-2])"
   ]
  },
  {
   "cell_type": "code",
   "execution_count": 25,
   "id": "abaa56d3e9fe85bf",
   "metadata": {
    "ExecuteTime": {
     "end_time": "2025-05-02T11:30:44.884162Z",
     "start_time": "2025-05-02T11:30:44.880002Z"
    }
   },
   "outputs": [
    {
     "name": "stdout",
     "output_type": "stream",
     "text": [
      "[[3 5 2 4]\n",
      " [7 6 8 8]\n",
      " [1 6 7 7]]\n",
      "取前2行前3列x2[:2, :3]\n",
      " [[3 5 2]\n",
      " [7 6 8]]\n",
      "取前3行前1列x2[:3, :1]\n",
      " [[3]\n",
      " [7]\n",
      " [1]]\n",
      "所有行每隔1列x2[:3, ::2]\n",
      " [[3 2]\n",
      " [7 8]\n",
      " [1 7]]\n",
      "逆序x2[::-1, ::-1]\n",
      " [[7 7 6 1]\n",
      " [8 8 6 7]\n",
      " [4 2 5 3]]\n",
      ":表示空切片x2[:, 0] [3 7 1]\n",
      "获取单行时列空切片省略x2[1]=x2[1, :] [7 6 8 8]\n"
     ]
    }
   ],
   "source": [
    "print(x2)\n",
    "print('取前2行前3列x2[:2, :3]\\n', x2[:2, :3])\n",
    "print('取前3行前1列x2[:3, :1]\\n', x2[:3, :1])\n",
    "print('所有行每隔1列x2[:3, ::2]\\n',x2[:3, ::2] )\n",
    "print('逆序x2[::-1, ::-1]\\n', x2[::-1, ::-1])\n",
    "# 获取单行单列简洁语法\n",
    "print(':表示空切片x2[:, 0]', x2[:, 0])\n",
    "print('获取单行时列空切片省略x2[1]=x2[1, :]', x2[1])"
   ]
  },
  {
   "cell_type": "code",
   "execution_count": 26,
   "id": "dc2a8e361b6eaaad",
   "metadata": {
    "ExecuteTime": {
     "end_time": "2025-05-02T13:51:49.768467Z",
     "start_time": "2025-05-02T13:51:49.764051Z"
    }
   },
   "outputs": [
    {
     "name": "stdout",
     "output_type": "stream",
     "text": [
      "x2\n",
      " [[3 5 2 4]\n",
      " [7 6 8 8]\n",
      " [1 6 7 7]]\n",
      "子数组x2_sub\n",
      " [[3 5]\n",
      " [7 6]]\n",
      "子数组x2_sub\n",
      " [[9 9]\n",
      " [7 6]]\n",
      "修改了子数组后的x2\n",
      " [[9 9 2 4]\n",
      " [7 6 8 8]\n",
      " [1 6 7 7]]\n",
      "子数组x2_sub_copy\n",
      " [[1 1]\n",
      " [7 6]]\n",
      "修改了子数组副本的x2\n",
      " [[9 9 2 4]\n",
      " [7 6 8 8]\n",
      " [1 6 7 7]]\n"
     ]
    }
   ],
   "source": [
    "# 数组切片返回的是原数组的视图而不是副本，因此修改数组切片得到的子数组会同时修改原数组的元素值\n",
    "# 通过copy()函数复制数组,修改复制后的子数组，原数组不会变\n",
    "print('x2\\n', x2)\n",
    "x2_sub = x2[:2, :2]\n",
    "x2_sub_copy = x2[:2, :2].copy()\n",
    "print('子数组x2_sub\\n', x2_sub)\n",
    "x2_sub[0,:] = 9\n",
    "print('子数组x2_sub\\n', x2_sub)\n",
    "print('修改了子数组后的x2\\n', x2)\n",
    "x2_sub_copy[0,:] = 1\n",
    "print('子数组x2_sub_copy\\n', x2_sub_copy)\n",
    "print('修改了子数组副本的x2\\n', x2)"
   ]
  },
  {
   "cell_type": "markdown",
   "id": "c037a507f7377785",
   "metadata": {},
   "source": [
    "## 2.4 数组变形"
   ]
  },
  {
   "cell_type": "code",
   "execution_count": 27,
   "id": "f89a6c8ada8cfc69",
   "metadata": {
    "ExecuteTime": {
     "end_time": "2025-05-02T14:03:57.024334Z",
     "start_time": "2025-05-02T14:03:57.017859Z"
    }
   },
   "outputs": [
    {
     "name": "stdout",
     "output_type": "stream",
     "text": [
      "[1 2 3 4 5 6 7 8 9]\n",
      "[[1 2 3]\n",
      " [4 5 6]\n",
      " [7 8 9]]\n"
     ]
    }
   ],
   "source": [
    "# 将数字1-9放入一个3X3的矩阵，前提是两个数组的大小相同\n",
    "grid = np.arange(1, 10)\n",
    "print(grid)\n",
    "grid_reshape = np.arange(1, 10).reshape(3, 3)\n",
    "print(grid_reshape)"
   ]
  },
  {
   "cell_type": "code",
   "execution_count": 28,
   "id": "66aa2597d1875e6c",
   "metadata": {
    "ExecuteTime": {
     "end_time": "2025-05-02T14:05:30.766012Z",
     "start_time": "2025-05-02T14:05:30.762231Z"
    }
   },
   "outputs": [
    {
     "name": "stdout",
     "output_type": "stream",
     "text": [
      "[[1 2 3]]\n",
      "[[1 2 3]]\n",
      "[[1]\n",
      " [2]\n",
      " [3]]\n",
      "[[1]\n",
      " [2]\n",
      " [3]]\n"
     ]
    }
   ],
   "source": [
    "x = np.array([1, 2, 3])\n",
    "# 利用 reshape 或 np.newaxis切片 将一维数组变为二维单行数组\n",
    "print(x.reshape(1, 3))\n",
    "print(x[np.newaxis, :])\n",
    "# 利用 reshape 或 np.newaxis切片 将一维数组变为二维单列数组\n",
    "print(x.reshape(3, 1))\n",
    "print(x[:, np.newaxis])"
   ]
  },
  {
   "cell_type": "markdown",
   "id": "707ce6ac0c36421",
   "metadata": {},
   "source": [
    "## 2.5 数组的拼接和分裂"
   ]
  },
  {
   "cell_type": "code",
   "execution_count": 29,
   "id": "7bf29019e8958ffd",
   "metadata": {
    "ExecuteTime": {
     "end_time": "2025-05-02T14:06:20.997289Z",
     "start_time": "2025-05-02T14:06:20.994282Z"
    }
   },
   "outputs": [
    {
     "name": "stdout",
     "output_type": "stream",
     "text": [
      "[ 1  2  3  3  2  1 99 99 99]\n",
      "[[1 2 3]\n",
      " [4 5 6]\n",
      " [1 2 3]\n",
      " [4 5 6]]\n",
      "[[1 2 3 1 2 3]\n",
      " [4 5 6 4 5 6]]\n",
      "np.vstack垂直栈同axis=0\n",
      " [[ 1  2  3]\n",
      " [ 3  2  1]\n",
      " [99 99 99]\n",
      " [ 1  2  3]\n",
      " [ 4  5  6]]\n",
      "np.hstack水平栈同axis=1\n",
      " [[1 2 3 1 2 3]\n",
      " [4 5 6 4 5 6]]\n"
     ]
    }
   ],
   "source": [
    "# 一维数组的拼接\n",
    "x = np.array([1, 2, 3])\n",
    "y = np.array([3, 2, 1])\n",
    "z = np.array([99, 99, 99])\n",
    "print(np.concatenate([x, y, z]))\n",
    "# 二维数组的拼接, np.concatennate([x, y], axis默认是0沿着行方向对每列操作，1是沿着列方向对每行操作)要求维度相同\n",
    "grid = np.array([[1, 2, 3],\n",
    "                 [4, 5, 6]])\n",
    "print(np.concatenate([grid, grid]))\n",
    "print(np.concatenate([grid, grid], axis = 1))\n",
    "print('np.vstack垂直栈同axis=0\\n', np.vstack([x, y, z, grid]))\n",
    "print('np.hstack水平栈同axis=1\\n', np.hstack([grid, grid]))\n",
    "# np.dstack沿第三个方向拼接数组"
   ]
  },
  {
   "cell_type": "code",
   "execution_count": 30,
   "id": "4ff4855ada3158b3",
   "metadata": {
    "ExecuteTime": {
     "end_time": "2025-05-02T14:17:18.036551Z",
     "start_time": "2025-05-02T14:17:18.032862Z"
    }
   },
   "outputs": [
    {
     "name": "stdout",
     "output_type": "stream",
     "text": [
      "[0 1 2] [3 4] [5 6 7 8]\n",
      "沿行方向平均分裂成3个数组\n",
      " [array([[1, 2, 3]]), array([[4, 5, 6]]), array([[7, 8, 9]])]\n",
      "沿列方向平均分裂成3个数组\n",
      " [array([[1],\n",
      "       [4],\n",
      "       [7]]), array([[2],\n",
      "       [5],\n",
      "       [8]]), array([[3],\n",
      "       [6],\n",
      "       [9]])]\n",
      "[[ 0  1  2  3]\n",
      " [ 4  5  6  7]\n",
      " [ 8  9 10 11]\n",
      " [12 13 14 15]]\n",
      "[[0 1 2 3]\n",
      " [4 5 6 7]]\n",
      "[[ 8  9 10 11]\n",
      " [12 13 14 15]]\n",
      "[[ 0]\n",
      " [ 4]\n",
      " [ 8]\n",
      " [12]]\n",
      "[[ 1  2  3]\n",
      " [ 5  6  7]\n",
      " [ 9 10 11]\n",
      " [13 14 15]]\n"
     ]
    }
   ],
   "source": [
    "x = [0, 1, 2, 3, 4, 5, 6, 7, 8]\n",
    "x1, x2, x3 = np.split(x, [3, 5]) # np.split(x, [索引列表记录断点位置])，N个分裂点得到N+1个数组\n",
    "print(x1, x2, x3)\n",
    "y = np.array([[1, 2, 3],\n",
    "              [4, 5, 6],\n",
    "              [7, 8, 9]])\n",
    "print('沿行方向平均分裂成3个数组\\n', np.split(y, 3))\n",
    "print('沿列方向平均分裂成3个数组\\n', np.split(y, 3, axis = 1))\n",
    "# print('沿行方向平均分裂成3个数组\\n', np.split(y, [1, 2]))---------------待解释\n",
    "grid = np.arange(16).reshape(4, 4)\n",
    "print(grid)\n",
    "upper, lower = np.vsplit(grid, [2])\n",
    "print(upper)\n",
    "print(lower)\n",
    "left, right = np.hsplit(grid, [1])\n",
    "print(left)\n",
    "print(right)"
   ]
  },
  {
   "cell_type": "markdown",
   "id": "82c28cc3b3de2a2e",
   "metadata": {},
   "source": [
    "# 3. Numpy数组的计算：通用函数\n",
    "一元通用函数对单个输入操作，二元通用函数对两个输入操作\n"
   ]
  },
  {
   "cell_type": "markdown",
   "id": "8a87366bbb0c7950",
   "metadata": {},
   "source": [
    "## 3.1 常用通用函数\n",
    "数组的运算"
   ]
  },
  {
   "cell_type": "code",
   "execution_count": 31,
   "id": "e713eaac1fd5430b",
   "metadata": {
    "ExecuteTime": {
     "end_time": "2025-05-02T14:28:35.558469Z",
     "start_time": "2025-05-02T14:28:35.553024Z"
    }
   },
   "outputs": [
    {
     "name": "stdout",
     "output_type": "stream",
     "text": [
      "x    =  [0 1 2 3]\n",
      "x + 5 = [5 6 7 8] [5 6 7 8]\n",
      "x - 5 = [-5 -4 -3 -2] [-5 -4 -3 -2]\n",
      "x * 2 = [0 2 4 6] [0 2 4 6]\n",
      "x / 2 = [0.  0.5 1.  1.5] [0.  0.5 1.  1.5]\n",
      "x // 2 = [0 0 1 1] [0 0 1 1]\n",
      "x % 2 = [0 1 0 1] [0 1 0 1]\n",
      "x ** 2 = [0 1 4 9] [0 1 4 9]\n",
      "-x     = [ 0 -1 -2 -3] [ 0 -1 -2 -3]\n",
      "-(0.5*x + 1) ** 2 =  [-1.   -2.25 -4.   -6.25]\n"
     ]
    }
   ],
   "source": [
    "x = np.arange(4)\n",
    "print('x    = ', x)\n",
    "print('x + 5 =', x + 5, np.add(x, 5))\n",
    "print('x - 5 =', x - 5, np.subtract(x, 5))\n",
    "print('x * 2 =', x * 2, np.multiply(x, 2))\n",
    "print('x / 2 =', x / 2, np.divide(x, 2))\n",
    "print('x // 2 =', x // 2, np.floor_divide(x, 2)) # 取商\n",
    "print('x % 2 =', x % 2, np.mod(x, 2)) # 取余\n",
    "print('x ** 2 =', x ** 2, np.power(x, 2))\n",
    "print('-x     =', -x, np.negative(x))\n",
    "print('-(0.5*x + 1) ** 2 = ', -(0.5*x + 1) ** 2)"
   ]
  },
  {
   "cell_type": "markdown",
   "id": "ea06f17824a93df3",
   "metadata": {},
   "source": [
    "绝对值"
   ]
  },
  {
   "cell_type": "code",
   "execution_count": 32,
   "id": "81e9b4fc0c23661f",
   "metadata": {
    "ExecuteTime": {
     "end_time": "2025-05-02T14:29:03.442557Z",
     "start_time": "2025-05-02T14:29:03.438071Z"
    }
   },
   "outputs": [
    {
     "name": "stdout",
     "output_type": "stream",
     "text": [
      "[2 1 0 1 2]\n",
      "[2 1 0 1 2]\n",
      "[2 1 0 1 2]\n",
      "[3.-4.j 4.-3.j 2.+0.j 0.+1.j]\n",
      "[5. 5. 2. 1.]\n"
     ]
    }
   ],
   "source": [
    "x = np.array([-2, -1, 0, 1, 2])\n",
    "print(abs(x))\n",
    "print(np.abs(x))\n",
    "print(np.absolute(x))\n",
    "# 复数的绝对值返回该复数的模，即实部和虚部平方和的平方根\n",
    "y = np.array([3 - 4j, 4 - 3j, 2 + 0j, 0 + 1j])\n",
    "print(y)\n",
    "print(abs(y))\n"
   ]
  },
  {
   "cell_type": "markdown",
   "id": "b5880344d4d827fc",
   "metadata": {},
   "source": [
    "三角函数和逆三角函数"
   ]
  },
  {
   "cell_type": "code",
   "execution_count": 33,
   "id": "915d37e6f132d145",
   "metadata": {
    "ExecuteTime": {
     "end_time": "2025-05-02T14:31:30.888627Z",
     "start_time": "2025-05-02T14:31:30.884950Z"
    }
   },
   "outputs": [
    {
     "name": "stdout",
     "output_type": "stream",
     "text": [
      "theta      =  [0.         1.57079633 3.14159265]\n",
      "sin(theta) =  [0.0000000e+00 1.0000000e+00 1.2246468e-16]\n",
      "cos(theta) =  [ 1.000000e+00  6.123234e-17 -1.000000e+00]\n",
      "tan(theta) =  [ 0.00000000e+00  1.63312394e+16 -1.22464680e-16]\n",
      "x      =  [-1, 0, 1]\n",
      "arcsin(x) =  [-1.57079633  0.          1.57079633]\n",
      "arccos(x) =  [3.14159265 1.57079633 0.        ]\n",
      "arctan(x) =  [-0.78539816  0.          0.78539816]\n"
     ]
    }
   ],
   "source": [
    "# numpy.linspace(start, stop, num=50, endpoint=True(stop值包含在数组中), retstep=False, dtype=None, axis=0)\n",
    "# np.pi = π\n",
    "theta = np.linspace(0, np.pi, 3)\n",
    "print('theta      = ', theta)\n",
    "print('sin(theta) = ', np.sin(theta))\n",
    "print('cos(theta) = ', np.cos(theta))\n",
    "print('tan(theta) = ', np.tan(theta))\n",
    "x = [-1, 0, 1]\n",
    "print('x      = ', x)\n",
    "print('arcsin(x) = ', np.arcsin(x))\n",
    "print('arccos(x) = ', np.arccos(x))\n",
    "print('arctan(x) = ', np.arctan(x))"
   ]
  },
  {
   "cell_type": "markdown",
   "id": "2fb45932d644a2c3",
   "metadata": {},
   "source": [
    "指数和对数"
   ]
  },
  {
   "cell_type": "code",
   "execution_count": 34,
   "id": "2bd0cd2a4d2a1f25",
   "metadata": {
    "ExecuteTime": {
     "end_time": "2025-05-02T14:35:18.072437Z",
     "start_time": "2025-05-02T14:35:18.067787Z"
    }
   },
   "outputs": [
    {
     "name": "stdout",
     "output_type": "stream",
     "text": [
      "x =  [1, 2, 3]\n",
      "e^x =  [ 2.71828183  7.3890561  20.08553692]\n",
      "2^x =  [2. 4. 8.]\n",
      "3^x =  [ 3  9 27]\n",
      "y =  [1, 2, 4, 10]\n",
      "ln(x) =  [0.         0.69314718 1.09861229]\n",
      "log2(x) =  [0.        1.        1.5849625]\n",
      "log10(x) =  [0.         0.30103    0.47712125]\n",
      "exp(z) - 1 =  [0.         0.0010005  0.01005017 0.10517092]\n",
      "log(1 + z) =  [0.         0.0009995  0.00995033 0.09531018]\n"
     ]
    }
   ],
   "source": [
    "x = [1, 2, 3]\n",
    "print('x = ', x)\n",
    "print('e^x = ', np.exp(x))\n",
    "print('2^x = ', np.exp2(x))\n",
    "print('3^x = ', np.power(3, x))\n",
    "y = [1, 2, 4, 10]\n",
    "print('y = ', y)\n",
    "print('ln(x) = ', np.log(x)) # np.log以自然常数（e）为底数的对数\n",
    "print('log2(x) = ', np.log2(x))\n",
    "print('log10(x) = ', np.log10(x))\n",
    "# 特殊版本，当输入值非常小时，用特殊函数给出的值比np.log和np.exp计算更精确\n",
    "z = [0, 0.001, 0.01, 0.1]\n",
    "print('exp(z) - 1 = ', np.expm1(z))\n",
    "print('log(1 + z) = ', np.log1p(z))"
   ]
  },
  {
   "cell_type": "code",
   "execution_count": 35,
   "id": "28be12029b138703",
   "metadata": {
    "ExecuteTime": {
     "end_time": "2025-05-02T14:41:21.513012Z",
     "start_time": "2025-05-02T14:41:21.365375Z"
    }
   },
   "outputs": [
    {
     "name": "stdout",
     "output_type": "stream",
     "text": [
      "gamma(x)     =  [1.0000e+00 2.4000e+01 3.6288e+05]\n",
      "ln|gamma(x)| =  [ 0.          3.17805383 12.80182748]\n",
      "beta(x, 2)   =  [0.5        0.03333333 0.00909091]\n",
      "erf(y) =  [0.         0.32862676 0.67780119 0.84270079]\n",
      "erfc(y) =  [1.         0.67137324 0.32219881 0.15729921]\n",
      "erfinv(y) =  [0.         0.27246271 0.73286908        inf]\n"
     ]
    }
   ],
   "source": [
    "# 专用通用函数\n",
    "# Gamma函数（广义阶乘）和相关函数\n",
    "from scipy import special\n",
    "x = [1, 5, 10]\n",
    "print('gamma(x)     = ', special.gamma(x))\n",
    "print('ln|gamma(x)| = ', special.gammaln(x))\n",
    "print('beta(x, 2)   = ', special.beta(x, 2))\n",
    "# 误差函数（高斯积分）实现与逆实现\n",
    "y = np.array([0, 0.3, 0.7, 1.0])\n",
    "print('erf(y) = ', special.erf(y))\n",
    "print('erfc(y) = ', special.erfc(y))\n",
    "print('erfinv(y) = ', special.erfinv(y))"
   ]
  },
  {
   "cell_type": "markdown",
   "id": "7377341c01147b48",
   "metadata": {},
   "source": [
    "## 3.2 高级的通用函数特性\n",
    "1. 指定输出位置：所有通用函数都可以用out参数指定计算结果的存放位置\n"
   ]
  },
  {
   "cell_type": "code",
   "execution_count": 36,
   "id": "49203b0494370ce4",
   "metadata": {
    "ExecuteTime": {
     "end_time": "2025-05-02T14:50:36.382198Z",
     "start_time": "2025-05-02T14:50:36.377099Z"
    }
   },
   "outputs": [
    {
     "name": "stdout",
     "output_type": "stream",
     "text": [
      "[ 0. 10. 20. 30. 40.]\n",
      "[0. 0. 0. 0. 0. 0. 0. 0. 0. 0.]\n",
      "[ 1.  2.  4.  8. 16.]\n",
      "[ 1.  0.  2.  0.  4.  0.  8.  0. 16.  0.]\n"
     ]
    }
   ],
   "source": [
    "x = np.arange(5)\n",
    "y = np.empty(5)\n",
    "np.multiply(x, 10, out = y)\n",
    "print(y)\n",
    "# 将计算结果写入指定数组的每隔一个元素的位置\n",
    "z = np.zeros(10)\n",
    "print(z)\n",
    "print(np.power(2, x, out = z[::2]))\n",
    "print(z)"
   ]
  },
  {
   "cell_type": "markdown",
   "id": "d2644e0b1f259f68",
   "metadata": {},
   "source": [
    "2. 聚合reduce：所有元素累积"
   ]
  },
  {
   "cell_type": "code",
   "execution_count": 37,
   "id": "40a3e7fce4be04d2",
   "metadata": {
    "ExecuteTime": {
     "end_time": "2025-05-02T14:55:07.388977Z",
     "start_time": "2025-05-02T14:55:07.386289Z"
    }
   },
   "outputs": [
    {
     "name": "stdout",
     "output_type": "stream",
     "text": [
      "x =  [1 2 3 4 5]\n",
      "x中所有元素求和： 15\n",
      "x中所有元素求积： 120\n",
      "x中所有元素依次求和并展示： [ 1  3  6 10 15]\n",
      "x中所有元素依次求积并展示： [  1   2   6  24 120]\n"
     ]
    }
   ],
   "source": [
    "x = np.arange(1, 6)\n",
    "print('x = ', x)\n",
    "print('x中所有元素求和：', np.add.reduce(x))\n",
    "print('x中所有元素求积：', np.multiply.reduce(x))\n",
    "print('x中所有元素依次求和并展示：', np.add.accumulate(x))\n",
    "print('x中所有元素依次求积并展示：', np.multiply.accumulate(x))"
   ]
  },
  {
   "cell_type": "markdown",
   "id": "78753308efa60df7",
   "metadata": {},
   "source": [
    "3. 外积：outer获得两个不同输入数组所有元素对的函数运算结果"
   ]
  },
  {
   "cell_type": "code",
   "execution_count": 38,
   "id": "37159fd5140b871d",
   "metadata": {
    "ExecuteTime": {
     "end_time": "2025-05-02T15:14:25.253886Z",
     "start_time": "2025-05-02T15:14:25.249209Z"
    }
   },
   "outputs": [
    {
     "name": "stdout",
     "output_type": "stream",
     "text": [
      "x =  [1 2 3 4 5]\n",
      "[[ 1  2  3  4  5]\n",
      " [ 2  4  6  8 10]\n",
      " [ 3  6  9 12 15]\n",
      " [ 4  8 12 16 20]\n",
      " [ 5 10 15 20 25]]\n"
     ]
    }
   ],
   "source": [
    "x = np.arange(1, 6)\n",
    "print('x = ', x)\n",
    "print(np.multiply.outer(x, x))"
   ]
  },
  {
   "cell_type": "code",
   "execution_count": 39,
   "id": "d3351567",
   "metadata": {},
   "outputs": [
    {
     "name": "stdout",
     "output_type": "stream",
     "text": [
      "[ 1  2  3  4  5  6  7  8  9 10 11 12 13 14 15 16 17 18]\n",
      "[19 20 21 22 23 24 25 26 27 28 29 30 31 32 33 34 35 36 37 38 39 40 41 42\n",
      " 43 44 45 46 47 48]\n"
     ]
    }
   ],
   "source": [
    "import numpy as np\n",
    "a=np.arange(1,19)\n",
    "b=np.arange(19,49)\n",
    "print(a)\n",
    "print(b)"
   ]
  },
  {
   "cell_type": "code",
   "execution_count": 40,
   "id": "e52726eb",
   "metadata": {},
   "outputs": [
    {
     "name": "stdout",
     "output_type": "stream",
     "text": [
      "[[ 1  2  3  4  5  6]\n",
      " [ 7  8  9 10 11 12]\n",
      " [13 14 15 16 17 18]]\n",
      "\n",
      "[[19 20 21 22 23 24]\n",
      " [25 26 27 28 29 30]\n",
      " [31 32 33 34 35 36]\n",
      " [37 38 39 40 41 42]\n",
      " [43 44 45 46 47 48]]\n"
     ]
    }
   ],
   "source": [
    "A=a.reshape(3,6)\n",
    "B=b.reshape(5,6)\n",
    "print(A)\n",
    "print()\n",
    "print(B)"
   ]
  },
  {
   "cell_type": "code",
   "execution_count": 41,
   "id": "812d08ea",
   "metadata": {},
   "outputs": [
    {
     "name": "stdout",
     "output_type": "stream",
     "text": [
      "[[ 1  2  3  4  5  6]\n",
      " [ 7  8  9 10 11 12]\n",
      " [13 14 15 16 17 18]\n",
      " [19 20 21 22 23 24]\n",
      " [25 26 27 28 29 30]\n",
      " [31 32 33 34 35 36]\n",
      " [37 38 39 40 41 42]\n",
      " [43 44 45 46 47 48]]\n"
     ]
    }
   ],
   "source": [
    "C=np.vstack([A,B])\n",
    "print(C)"
   ]
  },
  {
   "cell_type": "code",
   "execution_count": 42,
   "id": "7884e36f",
   "metadata": {},
   "outputs": [
    {
     "name": "stdout",
     "output_type": "stream",
     "text": [
      "[[ 7  8  9 10 11 12]\n",
      " [13 14 15 16 17 18]\n",
      " [19 20 21 22 23 24]\n",
      " [25 26 27 28 29 30]\n",
      " [31 32 33 34 35 36]\n",
      " [37 38 39 40 41 42]\n",
      " [43 44 45 46 47 48]]\n"
     ]
    }
   ],
   "source": [
    "upper, lower = np.vsplit(C, [1])\n",
    "D=lower\n",
    "print(D)\n"
   ]
  },
  {
   "cell_type": "code",
   "execution_count": 43,
   "id": "072591fb",
   "metadata": {},
   "outputs": [
    {
     "name": "stdout",
     "output_type": "stream",
     "text": [
      "[[ 7  8  9 10 11 12]]\n"
     ]
    }
   ],
   "source": [
    "E=D[:1:]\n",
    "print(E)"
   ]
  },
  {
   "cell_type": "code",
   "execution_count": 44,
   "id": "edc3dbc6",
   "metadata": {},
   "outputs": [
    {
     "data": {
      "text/plain": [
       "array([     7,     56,    504,   5040,  55440, 665280])"
      ]
     },
     "execution_count": 44,
     "metadata": {},
     "output_type": "execute_result"
    }
   ],
   "source": [
    "E_flattened = E.flatten()\n",
    "a1=np.multiply.accumulate(E_flattened)\n",
    "a1"
   ]
  },
  {
   "cell_type": "code",
   "execution_count": 45,
   "id": "e4db6c30",
   "metadata": {},
   "outputs": [],
   "source": [
    "\n",
    "def save_csv(a1):\n",
    "    import pandas as pd\n",
    "    df = pd.DataFrame({\"id\": [\"q1\"], \"answer\": [a1]})\n",
    "    df.to_csv(\"answer_1.csv\", index=None)\n",
    "\n",
    "save_csv(a1)  # 运行这个cell,生成答案文件；该文件在左侧文件树project工作区下，你可以自行右击下载或者读取查看"
   ]
  },
  {
   "cell_type": "code",
   "execution_count": 46,
   "id": "cdad10a0",
   "metadata": {},
   "outputs": [
    {
     "name": "stderr",
     "output_type": "stream",
     "text": [
      "'wget' �����ڲ����ⲿ���Ҳ���ǿ����еĳ���\n",
      "���������ļ���\n"
     ]
    }
   ],
   "source": [
    "!wget -nv -O heywhale_submit https://cdn.kesci.com/submit_tool/v4/heywhale_submit&&chmod +x heywhale_submit"
   ]
  },
  {
   "cell_type": "code",
   "execution_count": 47,
   "id": "050633b2",
   "metadata": {},
   "outputs": [
    {
     "name": "stderr",
     "output_type": "stream",
     "text": [
      "'.' �����ڲ����ⲿ���Ҳ���ǿ����еĳ���\n",
      "���������ļ���\n"
     ]
    }
   ],
   "source": [
    "!./heywhale_submit -token c985c27ac9c7df76 -file answer_1.csv  "
   ]
  }
 ],
 "metadata": {
  "kernelspec": {
   "display_name": "base",
   "language": "python",
   "name": "python3"
  },
  "language_info": {
   "codemirror_mode": {
    "name": "ipython",
    "version": 3
   },
   "file_extension": ".py",
   "mimetype": "text/x-python",
   "name": "python",
   "nbconvert_exporter": "python",
   "pygments_lexer": "ipython3",
   "version": "3.12.7"
  }
 },
 "nbformat": 4,
 "nbformat_minor": 5
}
